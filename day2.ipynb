{
 "cells": [
  {
   "cell_type": "code",
   "execution_count": 2,
   "metadata": {},
   "outputs": [],
   "source": [
    "victory_dict = {\n",
    "    'A X': 3,\n",
    "    'A Y': 6,\n",
    "    'A Z': 0,\n",
    "    'B X': 0,\n",
    "    'B Y': 3,\n",
    "    'B Z': 6,\n",
    "    'C X': 6,\n",
    "    'C Y': 0,\n",
    "    'C Z': 3,\n",
    "}"
   ]
  },
  {
   "cell_type": "code",
   "execution_count": 3,
   "metadata": {},
   "outputs": [],
   "source": [
    "day_two_input = open('day_2_input.txt').read()\n",
    "day_two_list = day_two_input.splitlines()"
   ]
  },
  {
   "cell_type": "code",
   "execution_count": 5,
   "metadata": {},
   "outputs": [],
   "source": [
    "total_score = 0\n",
    "for turn in day_two_list:\n",
    "    if 'X' in turn:\n",
    "        total_score += 1\n",
    "        if 'A' in turn:\n",
    "            total_score += 3\n",
    "        elif 'B' in turn:\n",
    "            total_score += 0\n",
    "        elif 'C' in turn:\n",
    "            total_score += 6\n",
    "    if 'Y' in turn:\n",
    "        total_score += 2\n",
    "        if 'A' in turn:\n",
    "            total_score += 6\n",
    "        elif 'B' in turn:\n",
    "            total_score += 3\n",
    "        elif 'C' in turn:\n",
    "            total_score += 0\n",
    "    if 'Z' in turn:\n",
    "        total_score += 3\n",
    "        if 'A' in turn:\n",
    "            total_score += 0\n",
    "        elif 'B' in turn:\n",
    "            total_score += 6\n",
    "        elif 'C' in turn:\n",
    "            total_score += 3\n"
   ]
  },
  {
   "cell_type": "code",
   "execution_count": 6,
   "metadata": {},
   "outputs": [
    {
     "data": {
      "text/plain": [
       "14375"
      ]
     },
     "execution_count": 6,
     "metadata": {},
     "output_type": "execute_result"
    }
   ],
   "source": [
    "total_score"
   ]
  },
  {
   "attachments": {},
   "cell_type": "markdown",
   "metadata": {},
   "source": [
    "## Part 2"
   ]
  },
  {
   "cell_type": "code",
   "execution_count": 9,
   "metadata": {},
   "outputs": [],
   "source": [
    "total_score = 0\n",
    "for turn in day_two_list:\n",
    "    if 'X' in turn:\n",
    "        total_score += 0\n",
    "        if 'A' in turn:\n",
    "            total_score += 3\n",
    "        elif 'B' in turn:\n",
    "            total_score += 1\n",
    "        elif 'C' in turn:\n",
    "            total_score += 2\n",
    "    if 'Y' in turn:\n",
    "        total_score += 3\n",
    "        if 'A' in turn:\n",
    "            total_score += 1\n",
    "        elif 'B' in turn:\n",
    "            total_score += 2\n",
    "        elif 'C' in turn:\n",
    "            total_score += 3\n",
    "    if 'Z' in turn:\n",
    "        total_score += 6\n",
    "        if 'A' in turn:\n",
    "            total_score += 2\n",
    "        elif 'B' in turn:\n",
    "            total_score += 3\n",
    "        elif 'C' in turn:\n",
    "            total_score += 1"
   ]
  },
  {
   "cell_type": "code",
   "execution_count": 10,
   "metadata": {},
   "outputs": [
    {
     "data": {
      "text/plain": [
       "10274"
      ]
     },
     "execution_count": 10,
     "metadata": {},
     "output_type": "execute_result"
    }
   ],
   "source": [
    "total_score"
   ]
  },
  {
   "cell_type": "code",
   "execution_count": null,
   "metadata": {},
   "outputs": [],
   "source": []
  }
 ],
 "metadata": {
  "kernelspec": {
   "display_name": "venv",
   "language": "python",
   "name": "python3"
  },
  "language_info": {
   "codemirror_mode": {
    "name": "ipython",
    "version": 3
   },
   "file_extension": ".py",
   "mimetype": "text/x-python",
   "name": "python",
   "nbconvert_exporter": "python",
   "pygments_lexer": "ipython3",
   "version": "3.9.13"
  },
  "orig_nbformat": 4,
  "vscode": {
   "interpreter": {
    "hash": "8c849768ec312f146b5c060f0a53a514c851bbae8d4545ea596352739a73243d"
   }
  }
 },
 "nbformat": 4,
 "nbformat_minor": 2
}
