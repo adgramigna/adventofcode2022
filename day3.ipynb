{
 "cells": [
  {
   "cell_type": "code",
   "execution_count": 1,
   "metadata": {},
   "outputs": [],
   "source": [
    "day_three_input = open('day_3_input.txt').read()\n",
    "day_three_list = day_three_input.splitlines()"
   ]
  },
  {
   "cell_type": "code",
   "execution_count": 5,
   "metadata": {},
   "outputs": [
    {
     "data": {
      "text/plain": [
       "['mjpsHcssDzLTzMsz',\n",
       " 'tFhbtClRVtbhRCGBFntNTrLhqrwqWMDMTWTqMq',\n",
       " 'LltbngLGRSBgSgGRCJdSdQHvdfmQccmjSQ',\n",
       " 'lBslsZDDWdGdGpSMts',\n",
       " 'grQhDvqLQHDNGJJtbRMQQJ']"
      ]
     },
     "execution_count": 5,
     "metadata": {},
     "output_type": "execute_result"
    }
   ],
   "source": [
    "day_three_list[:5]"
   ]
  },
  {
   "cell_type": "code",
   "execution_count": 18,
   "metadata": {},
   "outputs": [],
   "source": [
    "priorities = []\n",
    "for rucksack in day_three_list:\n",
    "    front_compartment = rucksack[:(len(rucksack)//2)]\n",
    "    back_compartment = rucksack[(len(rucksack)//2):]\n",
    "    common =  ''.join(set(front_compartment).intersection(back_compartment))\n",
    "    priorities.append(common)"
   ]
  },
  {
   "cell_type": "code",
   "execution_count": 20,
   "metadata": {},
   "outputs": [],
   "source": [
    "priority_dict = {\n",
    "    'a':1,\n",
    "'b':2,\n",
    "'c':3,\n",
    "'d':4,\n",
    "'e':5, \n",
    "'f':6,\n",
    "'g':7,\n",
    "'h':8, \n",
    "'i':9, \n",
    "'j':10,\n",
    "'k':11, \n",
    "'l':12, \n",
    "'m':13, \n",
    "'n':14, \n",
    "'o':15, \n",
    "'p':16, \n",
    "'q':17, \n",
    "'r':18, \n",
    "'s':19, \n",
    "'t':20, \n",
    "'u':21, \n",
    "'v':22, \n",
    "'w':23,  \n",
    "'x':24,\n",
    "'y':25,\n",
    "'z':26,\n",
    "'A':27,\n",
    "'B':28,\n",
    "'C':29, \n",
    "'D':30, \n",
    "'E':31, \n",
    "'F':32, \n",
    "'G':33, \n",
    "'H':34, \n",
    "'I':35, \n",
    "'J':36, \n",
    "'K':37, \n",
    "'L':38, \n",
    "'M':39, \n",
    "'N':40, \n",
    "'O':41, \n",
    "'P':42,\n",
    "'Q':43, \n",
    "'R':44, \n",
    "'S':45, \n",
    "'T':46, \n",
    "'U':47, \n",
    "'V':48, \n",
    "'W':49, \n",
    "'X':50, \n",
    "'Y':51, \n",
    "'Z':52,\n",
    "}"
   ]
  },
  {
   "cell_type": "code",
   "execution_count": 25,
   "metadata": {},
   "outputs": [
    {
     "data": {
      "text/plain": [
       "8123"
      ]
     },
     "execution_count": 25,
     "metadata": {},
     "output_type": "execute_result"
    }
   ],
   "source": [
    "sum([priority_dict[x] for x in priorities])"
   ]
  },
  {
   "attachments": {},
   "cell_type": "markdown",
   "metadata": {},
   "source": [
    "## Part 2"
   ]
  },
  {
   "cell_type": "code",
   "execution_count": 33,
   "metadata": {},
   "outputs": [
    {
     "data": {
      "text/plain": [
       "300"
      ]
     },
     "execution_count": 33,
     "metadata": {},
     "output_type": "execute_result"
    }
   ],
   "source": [
    "len(day_three_list)"
   ]
  },
  {
   "cell_type": "code",
   "execution_count": 36,
   "metadata": {},
   "outputs": [],
   "source": [
    "priorities = []\n",
    "for i in range(0,len(day_three_list),3):\n",
    "    common =  ''.join(set(day_three_list[i]).intersection(day_three_list[i+1]))\n",
    "    common_all = ''.join(set(common).intersection(day_three_list[i+2]))\n",
    "    priorities.append(common_all)"
   ]
  },
  {
   "cell_type": "code",
   "execution_count": 38,
   "metadata": {},
   "outputs": [
    {
     "data": {
      "text/plain": [
       "2620"
      ]
     },
     "execution_count": 38,
     "metadata": {},
     "output_type": "execute_result"
    }
   ],
   "source": [
    "sum([priority_dict[x] for x in priorities])"
   ]
  },
  {
   "cell_type": "code",
   "execution_count": null,
   "metadata": {},
   "outputs": [],
   "source": []
  },
  {
   "cell_type": "code",
   "execution_count": null,
   "metadata": {},
   "outputs": [],
   "source": []
  }
 ],
 "metadata": {
  "kernelspec": {
   "display_name": "venv",
   "language": "python",
   "name": "python3"
  },
  "language_info": {
   "codemirror_mode": {
    "name": "ipython",
    "version": 3
   },
   "file_extension": ".py",
   "mimetype": "text/x-python",
   "name": "python",
   "nbconvert_exporter": "python",
   "pygments_lexer": "ipython3",
   "version": "3.9.13"
  },
  "orig_nbformat": 4,
  "vscode": {
   "interpreter": {
    "hash": "8c849768ec312f146b5c060f0a53a514c851bbae8d4545ea596352739a73243d"
   }
  }
 },
 "nbformat": 4,
 "nbformat_minor": 2
}
